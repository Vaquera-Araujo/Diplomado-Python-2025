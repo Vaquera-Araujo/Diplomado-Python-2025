{
  "nbformat": 4,
  "nbformat_minor": 0,
  "metadata": {
    "colab": {
      "provenance": []
    },
    "kernelspec": {
      "name": "python3",
      "display_name": "Python 3"
    },
    "language_info": {
      "name": "python"
    }
  },
  "cells": [
    {
      "cell_type": "markdown",
      "source": [
        "**Condiciones, ciclos y control de flujo**"
      ],
      "metadata": {
        "id": "eN-ix5Pjqlpw"
      }
    },
    {
      "cell_type": "markdown",
      "source": [
        "Sentencia `if`\n",
        "\n",
        "Esta sentencia condicional se usa para tomar decisiones en el flujo de un programa basado en la comparación de valores\n",
        "\n",
        "Su sintaxis es\n",
        "\n",
        "```\n",
        "if <condición>:\n",
        "  <código a ejecutar si se satisface esta condición>\n",
        "```\n",
        "\n",
        "\n",
        "\n"
      ],
      "metadata": {
        "id": "pZJqInLJqztw"
      }
    },
    {
      "cell_type": "code",
      "source": [
        "edad=int(input(\"Escribe tu edad: \"))\n",
        "\n",
        "if edad >= 18:\n",
        "  print(\"Eres mayor de edad\")"
      ],
      "metadata": {
        "colab": {
          "base_uri": "https://localhost:8080/"
        },
        "id": "0pKa9OGEiri5",
        "outputId": "4bf6b981-c5b7-43b6-f406-585c93451409"
      },
      "execution_count": 5,
      "outputs": [
        {
          "output_type": "stream",
          "name": "stdout",
          "text": [
            "Escribe tu edad: 43\n",
            "Eres mayor de edad\n"
          ]
        }
      ]
    },
    {
      "cell_type": "markdown",
      "source": [
        "Sentencia `if-else`\n",
        "\n",
        "Su sintaxis es\n",
        "\n",
        "```\n",
        "if <condición>:\n",
        "  <código a ejecutar si se satisface la condición>\n",
        "else:\n",
        "  <código a ejecutar si no se satisface la condición>\n",
        "```"
      ],
      "metadata": {
        "id": "p7VJ7EMbr9Ci"
      }
    },
    {
      "cell_type": "code",
      "source": [
        "edad=int(input(\"Escribe tu edad: \"))\n",
        "\n",
        "if edad >= 18:\n",
        "  print(\"Eres mayor de edad\")\n",
        "else:\n",
        "  print(\"Eres menor de edad\")\n"
      ],
      "metadata": {
        "colab": {
          "base_uri": "https://localhost:8080/"
        },
        "id": "Tp-sH1eEs9iN",
        "outputId": "e1b3bbc2-f140-49a5-c794-169a24c659aa"
      },
      "execution_count": 7,
      "outputs": [
        {
          "output_type": "stream",
          "name": "stdout",
          "text": [
            "Escribe tu edad: 12\n",
            "Eres menor de edad\n"
          ]
        }
      ]
    },
    {
      "cell_type": "markdown",
      "source": [
        "Retos:\n",
        "\n",
        "1.  Escribe un programa que le pida al usuario un número entero y usa un `if-else` para determinar si el número es positivo o negativo.\n",
        "2.   Escribe un programa que le pida al usuario un número entero y usa un `if-else` para determinar si el número es par o impar (tip: usar la operación módulo `%`).\n"
      ],
      "metadata": {
        "id": "0vwwfCb3tMSN"
      }
    },
    {
      "cell_type": "markdown",
      "source": [
        "Sentencia `if-elif-else`\n",
        "\n",
        "permite evaluar múltiples condiciones\n",
        "\n",
        "Su sintaxis es\n",
        "\n",
        "```\n",
        "if <condición 1>:\n",
        "  <código a ejecutar si se satisface la condición 1>\n",
        "elif <condición 2>:\n",
        "  <código a ejecutar si se satisface la condición 2>  \n",
        "...\n",
        "...\n",
        "...\n",
        "else:\n",
        "  <código a ejecutar si no se satisface ninguna de las condiciones>\n",
        "```"
      ],
      "metadata": {
        "id": "G0z2qjg2uJzL"
      }
    },
    {
      "cell_type": "code",
      "source": [
        "edad=int(input(\"Escribe tu edad: \"))\n",
        "\n",
        "if edad < 2:\n",
        "  print(\"Eres un Infante\")\n",
        "elif edad < 12:\n",
        "  print(\"Eres un Niño o Niña\")\n",
        "elif edad < 18:\n",
        "  print (\"Eres adolescente\")\n",
        "elif edad < 40:\n",
        "  print (\"Eres adulto joven\")\n",
        "else:\n",
        "  print(\"Eres adulto maduro\")"
      ],
      "metadata": {
        "colab": {
          "base_uri": "https://localhost:8080/"
        },
        "id": "qTpQyqS2u2BK",
        "outputId": "eea249a9-e737-425e-aeeb-59fa64bdd760"
      },
      "execution_count": 14,
      "outputs": [
        {
          "output_type": "stream",
          "name": "stdout",
          "text": [
            "Escribe tu edad: 60\n",
            "Eres adulto maduro\n"
          ]
        }
      ]
    },
    {
      "cell_type": "markdown",
      "source": [
        "Reto:\n",
        "\n",
        "\n",
        "*   Escribir un programa que pida al usuario un número entero y evaluar si ese número es divisible entre 2 y entre 3 simultáneamente (`and`), si eso se cumple, imprimir \"Es divisible entre 2 y entre 3\".\n",
        "*   Si no se cumple esta condición, evaluar si el número es divisible entre 2 e imprimir \"Es divisible entre 2\" si se satisface.\n",
        "*   Si no se cumple,  evaluar si el número es divisible entre 3 e imprimir \"Es divisible entre 3\" si es el caso.\n",
        "*   Finalmente imprimir \"No es divisible entre 2 ni entre 3\" si no se satisface ninguna condición"
      ],
      "metadata": {
        "id": "a7oAeKLkv31W"
      }
    },
    {
      "cell_type": "markdown",
      "source": [
        "Sentencias `if` anidadas\n",
        "\n",
        "Se usan cuando se necesita evaluar una condición dentro de otra condición.\n",
        "\n",
        "Para anidar, se usa la indentación del código.\n",
        "\n",
        "Su sintaxis es\n",
        "\n",
        "```\n",
        "if <condición 1>:\n",
        "  <código a ejecutar si se satisface la condición 1>\n",
        "  if <condición 2>:\n",
        "    <código a ejecutar si se satisface la condición 2>\n",
        "  else:\n",
        "    <código a ejecutar si no se satisface la condición 2>\n",
        "else:\n",
        "  <código a ejecutar si no se satisface la condición 1>\n",
        "```\n",
        "\n",
        "\n"
      ],
      "metadata": {
        "id": "5vWdgmizyZCI"
      }
    },
    {
      "cell_type": "code",
      "source": [
        "# Determinar si un número dado es divisible entre 4, entre 5 o entre ambos\n",
        "\n",
        "numero=int(input(\"Elige un número entero: \"))\n",
        "\n",
        "if numero%4==0:\n",
        "  if numero%5==0:\n",
        "    print(f\"{numero} es divisible entre 4 y entre 5\")\n",
        "  else:\n",
        "    print(f\"{numero} es divisible entre 4\")\n",
        "elif numero%5==0:\n",
        "  print(f\"{numero} es divisible entre 5\")\n",
        "else:\n",
        "  print(f\"{numero} no es divisible entre 4 ni entre 5\")"
      ],
      "metadata": {
        "colab": {
          "base_uri": "https://localhost:8080/"
        },
        "id": "cOAfrHGOyqWA",
        "outputId": "42db6cf8-e22f-400c-97ff-f88f99454b91"
      },
      "execution_count": 29,
      "outputs": [
        {
          "output_type": "stream",
          "name": "stdout",
          "text": [
            "Elige un número entero: 13\n",
            "13 no es divisible entre 4 ni entre 5\n"
          ]
        }
      ]
    },
    {
      "cell_type": "markdown",
      "source": [
        "En python, se pueden usar sentencias if-else en una sola línea para simplificar el código.\n",
        "\n",
        "Sintaxis:\n",
        "\n",
        "`variable=valor_si_verdadero if <condición> else valor_si_falso`\n",
        "\n",
        "Esto es útil cuando necesitamos asignar valores a una variable en base a una condición."
      ],
      "metadata": {
        "id": "G6JT82du1Cga"
      }
    },
    {
      "cell_type": "code",
      "source": [
        "cupon=input(\"¿Tienes un cupón de descuento? Responde Sí o No: \")\n",
        "precio=19.99 if cupon==\"Sí\" else 29.99\n",
        "print(f\"El monto a pagar es {precio}\")"
      ],
      "metadata": {
        "colab": {
          "base_uri": "https://localhost:8080/"
        },
        "id": "GOBbyEWd2VaM",
        "outputId": "2c1489d6-b443-476a-cea6-71f30007a234"
      },
      "execution_count": 36,
      "outputs": [
        {
          "output_type": "stream",
          "name": "stdout",
          "text": [
            "¿Tienes un cupón de descuento? Responde Sí o No: Sí\n",
            "El monto a pagar es 19.99\n"
          ]
        }
      ]
    },
    {
      "cell_type": "markdown",
      "source": [
        "Ciclo `for`\n",
        "\n",
        "Estructura de control que permite ejecutar el código varias veces, y se utiliza para recorrer una secuencia de elementos finitos.\n",
        "\n",
        "Sintaxis\n",
        "```\n",
        "for <elemento> in <secuencia>:\n",
        "  <código a ejecutar para cada elemento en la secuencia>\n",
        "```\n",
        "\n",
        "Un elemento útil para generar una secuencia es la función range\n",
        "\n",
        "`range(inicio,final,incremento)`\n",
        "\n",
        "*  inicio es el número inicial de la secuencia (y está incluido en la misma)\n",
        "*  final es el número donde la secuencia termina (y no está incluido)\n",
        "*  incremento es el paso entre un número de la secuencia y el siguiente\n",
        "\n",
        "Por default, el incremento es 1 y el inicio es 0, de modo que `range(0,10,1)` se puede abreviar como `range(10)`\n"
      ],
      "metadata": {
        "id": "vocz_AkY30dw"
      }
    },
    {
      "cell_type": "code",
      "source": [
        "# Iterar sobre un rango de 10 números\n",
        "for i in range(10):\n",
        "  print(i)"
      ],
      "metadata": {
        "colab": {
          "base_uri": "https://localhost:8080/"
        },
        "id": "q3ay_1og5vbc",
        "outputId": "303176cc-e567-415e-c267-c31ce8a17b0c"
      },
      "execution_count": 62,
      "outputs": [
        {
          "output_type": "stream",
          "name": "stdout",
          "text": [
            "0\n",
            "1\n",
            "2\n",
            "3\n",
            "4\n",
            "5\n",
            "6\n",
            "7\n",
            "8\n",
            "9\n"
          ]
        }
      ]
    },
    {
      "cell_type": "code",
      "source": [
        "# Iterar sobre un rango de 10 números con paso de 2\n",
        "for i in range(0,10,2):\n",
        "  print(i)"
      ],
      "metadata": {
        "colab": {
          "base_uri": "https://localhost:8080/"
        },
        "id": "QvquTL9-6jQp",
        "outputId": "dcec6b9a-ff94-4557-cef8-d3bb3f9df0c8"
      },
      "execution_count": 67,
      "outputs": [
        {
          "output_type": "stream",
          "name": "stdout",
          "text": [
            "0\n",
            "2\n",
            "4\n",
            "6\n",
            "8\n"
          ]
        }
      ]
    },
    {
      "cell_type": "code",
      "source": [
        "# Iterar sobre una cadena de caracteres\n",
        "cadena=\"electroencefalografista\"\n",
        "for caracter in cadena:\n",
        "  print(caracter)"
      ],
      "metadata": {
        "colab": {
          "base_uri": "https://localhost:8080/"
        },
        "id": "IGlgHjjK7vdg",
        "outputId": "39a60329-620e-48f5-a54b-f2cc02192c8b"
      },
      "execution_count": 69,
      "outputs": [
        {
          "output_type": "stream",
          "name": "stdout",
          "text": [
            "e\n",
            "l\n",
            "e\n",
            "c\n",
            "t\n",
            "r\n",
            "o\n",
            "e\n",
            "n\n",
            "c\n",
            "e\n",
            "f\n",
            "a\n",
            "l\n",
            "o\n",
            "g\n",
            "r\n",
            "a\n",
            "f\n",
            "i\n",
            "s\n",
            "t\n",
            "a\n"
          ]
        }
      ]
    },
    {
      "cell_type": "code",
      "source": [
        "# Iterar sobre un rango de 10 números en orden inverso\n",
        "for i in range(9,-1,-1):\n",
        "  print(i)"
      ],
      "metadata": {
        "colab": {
          "base_uri": "https://localhost:8080/"
        },
        "id": "pEYV1W4X8f2B",
        "outputId": "928bb4eb-1b54-4481-86a9-18cf71e03269"
      },
      "execution_count": 70,
      "outputs": [
        {
          "output_type": "stream",
          "name": "stdout",
          "text": [
            "9\n",
            "8\n",
            "7\n",
            "6\n",
            "5\n",
            "4\n",
            "3\n",
            "2\n",
            "1\n",
            "0\n"
          ]
        }
      ]
    },
    {
      "cell_type": "code",
      "source": [
        "# Ejecutar un bloque de código 3 veces sin hacerlo elemento por elemento\n",
        "for _ in range(3):\n",
        "  print(\"Hola\")"
      ],
      "metadata": {
        "colab": {
          "base_uri": "https://localhost:8080/"
        },
        "id": "1lazXKLY9F1D",
        "outputId": "e6e9cbdc-1ccd-4d07-ed20-12169b6cb883"
      },
      "execution_count": 72,
      "outputs": [
        {
          "output_type": "stream",
          "name": "stdout",
          "text": [
            "Hola\n",
            "Hola\n",
            "Hola\n"
          ]
        }
      ]
    },
    {
      "cell_type": "code",
      "source": [],
      "metadata": {
        "id": "h6uO3sRz-Sn9"
      },
      "execution_count": null,
      "outputs": []
    }
  ]
}