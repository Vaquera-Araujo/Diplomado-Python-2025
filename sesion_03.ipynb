{
  "nbformat": 4,
  "nbformat_minor": 0,
  "metadata": {
    "colab": {
      "provenance": []
    },
    "kernelspec": {
      "name": "python3",
      "display_name": "Python 3"
    },
    "language_info": {
      "name": "python"
    }
  },
  "cells": [
    {
      "cell_type": "markdown",
      "source": [
        "**Indización de Strings**"
      ],
      "metadata": {
        "id": "iPZwKRjJoYMv"
      }
    },
    {
      "cell_type": "code",
      "execution_count": 95,
      "metadata": {
        "id": "Fi3e_UELnjwN"
      },
      "outputs": [],
      "source": [
        "alfabeto=\"AaBbCcDdEeFfGgHhIiJjKkLlMmNnOoPpQqRrSsTtUuVvWwXxYyZz\""
      ]
    },
    {
      "cell_type": "code",
      "source": [
        "alfabeto[0] # Primer caracter (el caracter a la derecha del origen)"
      ],
      "metadata": {
        "colab": {
          "base_uri": "https://localhost:8080/",
          "height": 36
        },
        "id": "xenWKRVbqJqa",
        "outputId": "850d3a61-db16-4671-83c9-91c3a8366f24"
      },
      "execution_count": 96,
      "outputs": [
        {
          "output_type": "execute_result",
          "data": {
            "text/plain": [
              "'A'"
            ],
            "application/vnd.google.colaboratory.intrinsic+json": {
              "type": "string"
            }
          },
          "metadata": {},
          "execution_count": 96
        }
      ]
    },
    {
      "cell_type": "code",
      "source": [
        "alfabeto[1] # Segundo caracter (el caracter a la derecha del primer espacio)"
      ],
      "metadata": {
        "colab": {
          "base_uri": "https://localhost:8080/",
          "height": 36
        },
        "id": "-W7kKtIvozdt",
        "outputId": "69f53b57-9a78-4da0-a3d2-6bafd23715b6"
      },
      "execution_count": 97,
      "outputs": [
        {
          "output_type": "execute_result",
          "data": {
            "text/plain": [
              "'a'"
            ],
            "application/vnd.google.colaboratory.intrinsic+json": {
              "type": "string"
            }
          },
          "metadata": {},
          "execution_count": 97
        }
      ]
    },
    {
      "cell_type": "code",
      "source": [
        "alfabeto[-1] # Último caracter"
      ],
      "metadata": {
        "colab": {
          "base_uri": "https://localhost:8080/",
          "height": 36
        },
        "id": "01jlJ1I3o-e0",
        "outputId": "1f0afbf8-9f57-4180-e165-368d31388783"
      },
      "execution_count": 98,
      "outputs": [
        {
          "output_type": "execute_result",
          "data": {
            "text/plain": [
              "'z'"
            ],
            "application/vnd.google.colaboratory.intrinsic+json": {
              "type": "string"
            }
          },
          "metadata": {},
          "execution_count": 98
        }
      ]
    },
    {
      "cell_type": "code",
      "source": [
        "alfabeto[3:11] # Desde el cuarto caracter hasta el undécmo (los caracteres contenidos entre el tercer espacio y el undécimo)"
      ],
      "metadata": {
        "colab": {
          "base_uri": "https://localhost:8080/",
          "height": 36
        },
        "id": "absXZQv2pJ5y",
        "outputId": "7c58379a-0888-4e9a-88c4-f07497c19fdc"
      },
      "execution_count": 99,
      "outputs": [
        {
          "output_type": "execute_result",
          "data": {
            "text/plain": [
              "'bCcDdEeF'"
            ],
            "application/vnd.google.colaboratory.intrinsic+json": {
              "type": "string"
            }
          },
          "metadata": {},
          "execution_count": 99
        }
      ]
    },
    {
      "cell_type": "code",
      "source": [
        "alfabeto[0:2] # Primeros dos elementos"
      ],
      "metadata": {
        "colab": {
          "base_uri": "https://localhost:8080/",
          "height": 36
        },
        "id": "pTriklgEpSCa",
        "outputId": "a9435c0e-251a-411d-96aa-9a39b2da08b4"
      },
      "execution_count": 100,
      "outputs": [
        {
          "output_type": "execute_result",
          "data": {
            "text/plain": [
              "'Aa'"
            ],
            "application/vnd.google.colaboratory.intrinsic+json": {
              "type": "string"
            }
          },
          "metadata": {},
          "execution_count": 100
        }
      ]
    },
    {
      "cell_type": "code",
      "source": [
        "alfabeto[:2] # Primeros dos elementos"
      ],
      "metadata": {
        "colab": {
          "base_uri": "https://localhost:8080/",
          "height": 36
        },
        "id": "ip04ogoGqobd",
        "outputId": "644efd0c-3bd1-40a4-85b3-7c74428e0fe2"
      },
      "execution_count": 101,
      "outputs": [
        {
          "output_type": "execute_result",
          "data": {
            "text/plain": [
              "'Aa'"
            ],
            "application/vnd.google.colaboratory.intrinsic+json": {
              "type": "string"
            }
          },
          "metadata": {},
          "execution_count": 101
        }
      ]
    },
    {
      "cell_type": "code",
      "source": [
        "alfabeto[-5:]# Últimos cinco elementos"
      ],
      "metadata": {
        "colab": {
          "base_uri": "https://localhost:8080/",
          "height": 36
        },
        "id": "ggnSo-UYqumq",
        "outputId": "a10f75dc-4a56-48d2-c941-21c5231c1991"
      },
      "execution_count": 102,
      "outputs": [
        {
          "output_type": "execute_result",
          "data": {
            "text/plain": [
              "'xYyZz'"
            ],
            "application/vnd.google.colaboratory.intrinsic+json": {
              "type": "string"
            }
          },
          "metadata": {},
          "execution_count": 102
        }
      ]
    },
    {
      "cell_type": "code",
      "source": [
        "alfabeto # Cadena completa"
      ],
      "metadata": {
        "colab": {
          "base_uri": "https://localhost:8080/",
          "height": 36
        },
        "id": "Z1jSVLlCq7am",
        "outputId": "02e2ae82-40a5-481a-c4ad-5c52dd19ad1c"
      },
      "execution_count": 103,
      "outputs": [
        {
          "output_type": "execute_result",
          "data": {
            "text/plain": [
              "'AaBbCcDdEeFfGgHhIiJjKkLlMmNnOoPpQqRrSsTtUuVvWwXxYyZz'"
            ],
            "application/vnd.google.colaboratory.intrinsic+json": {
              "type": "string"
            }
          },
          "metadata": {},
          "execution_count": 103
        }
      ]
    },
    {
      "cell_type": "code",
      "source": [
        "alfabeto[:] # Cadena completa"
      ],
      "metadata": {
        "colab": {
          "base_uri": "https://localhost:8080/",
          "height": 36
        },
        "id": "-PGucTI9q-fl",
        "outputId": "5ebacc27-7216-407f-9bf6-342ef3a46216"
      },
      "execution_count": 104,
      "outputs": [
        {
          "output_type": "execute_result",
          "data": {
            "text/plain": [
              "'AaBbCcDdEeFfGgHhIiJjKkLlMmNnOoPpQqRrSsTtUuVvWwXxYyZz'"
            ],
            "application/vnd.google.colaboratory.intrinsic+json": {
              "type": "string"
            }
          },
          "metadata": {},
          "execution_count": 104
        }
      ]
    },
    {
      "cell_type": "code",
      "source": [
        "alfabeto[::2] # Cadena completa recorrida en pasos de dos en dos"
      ],
      "metadata": {
        "colab": {
          "base_uri": "https://localhost:8080/",
          "height": 36
        },
        "id": "ipvrDjRurG8t",
        "outputId": "96bc9ca9-2aa0-4056-ef8d-b1fa7a0f4341"
      },
      "execution_count": 105,
      "outputs": [
        {
          "output_type": "execute_result",
          "data": {
            "text/plain": [
              "'ABCDEFGHIJKLMNOPQRSTUVWXYZ'"
            ],
            "application/vnd.google.colaboratory.intrinsic+json": {
              "type": "string"
            }
          },
          "metadata": {},
          "execution_count": 105
        }
      ]
    },
    {
      "cell_type": "code",
      "source": [
        "alfabeto[1::2] # Cadena completa recorrida en pasos de dos en dos a partir del espacio 1"
      ],
      "metadata": {
        "colab": {
          "base_uri": "https://localhost:8080/",
          "height": 36
        },
        "id": "O3pR4v4jrf9q",
        "outputId": "e40197c2-d3d9-4a97-b89f-16b7aee06477"
      },
      "execution_count": 106,
      "outputs": [
        {
          "output_type": "execute_result",
          "data": {
            "text/plain": [
              "'abcdefghijklmnopqrstuvwxyz'"
            ],
            "application/vnd.google.colaboratory.intrinsic+json": {
              "type": "string"
            }
          },
          "metadata": {},
          "execution_count": 106
        }
      ]
    },
    {
      "cell_type": "code",
      "source": [
        "alfabeto[::-1] # Cadena completa recorrida desde atrás"
      ],
      "metadata": {
        "colab": {
          "base_uri": "https://localhost:8080/",
          "height": 36
        },
        "id": "69KNVxGbrrQl",
        "outputId": "3a48af70-792a-43c0-a17a-6bd9bf855757"
      },
      "execution_count": 107,
      "outputs": [
        {
          "output_type": "execute_result",
          "data": {
            "text/plain": [
              "'zZyYxXwWvVuUtTsSrRqQpPoOnNmMlLkKjJiIhHgGfFeEdDcCbBaA'"
            ],
            "application/vnd.google.colaboratory.intrinsic+json": {
              "type": "string"
            }
          },
          "metadata": {},
          "execution_count": 107
        }
      ]
    },
    {
      "cell_type": "code",
      "source": [
        "alfabeto[::-2] # Cadena completa recorrida desde atrás en pasos de 2 en 2"
      ],
      "metadata": {
        "colab": {
          "base_uri": "https://localhost:8080/",
          "height": 36
        },
        "id": "a3QKCZcMrzTr",
        "outputId": "b48b2595-f2fe-482c-926c-714453f032a1"
      },
      "execution_count": 108,
      "outputs": [
        {
          "output_type": "execute_result",
          "data": {
            "text/plain": [
              "'zyxwvutsrqponmlkjihgfedcba'"
            ],
            "application/vnd.google.colaboratory.intrinsic+json": {
              "type": "string"
            }
          },
          "metadata": {},
          "execution_count": 108
        }
      ]
    },
    {
      "cell_type": "code",
      "source": [
        "alfabeto[-2::-2] # Cadena completa recorrida desde atrás en pasos de 2 en 2 desde el Penúltimo elemento"
      ],
      "metadata": {
        "colab": {
          "base_uri": "https://localhost:8080/",
          "height": 36
        },
        "id": "dVq-DGavr62i",
        "outputId": "2b60e938-d6ff-4f49-d070-64f1984c8ed1"
      },
      "execution_count": 109,
      "outputs": [
        {
          "output_type": "execute_result",
          "data": {
            "text/plain": [
              "'ZYXWVUTSRQPONMLKJIHGFEDCBA'"
            ],
            "application/vnd.google.colaboratory.intrinsic+json": {
              "type": "string"
            }
          },
          "metadata": {},
          "execution_count": 109
        }
      ]
    },
    {
      "cell_type": "markdown",
      "source": [
        "Reto: Verificar si una cadena de caracteres es un palíndromo\n",
        "\n",
        "\n",
        "\n",
        "*   asignar una cadena de caracteres a una variable\n",
        "*   Usar == para comparar dicha variable con la cadena completa recorrida desde atrás\n",
        "\n"
      ],
      "metadata": {
        "id": "LYvDDBdjsQkd"
      }
    },
    {
      "cell_type": "code",
      "source": [
        "alfabeto"
      ],
      "metadata": {
        "colab": {
          "base_uri": "https://localhost:8080/",
          "height": 36
        },
        "id": "HU_i0RQ7tIPC",
        "outputId": "bb2d5a25-4a85-4f6c-bfd1-1e342fc929a9"
      },
      "execution_count": 110,
      "outputs": [
        {
          "output_type": "execute_result",
          "data": {
            "text/plain": [
              "'AaBbCcDdEeFfGgHhIiJjKkLlMmNnOoPpQqRrSsTtUuVvWwXxYyZz'"
            ],
            "application/vnd.google.colaboratory.intrinsic+json": {
              "type": "string"
            }
          },
          "metadata": {},
          "execution_count": 110
        }
      ]
    },
    {
      "cell_type": "code",
      "source": [
        "alfabeto[3:11:2]"
      ],
      "metadata": {
        "colab": {
          "base_uri": "https://localhost:8080/",
          "height": 36
        },
        "id": "5_r6z_bfsz2U",
        "outputId": "d2d03cbf-5985-42a9-c68f-4287bcaf950a"
      },
      "execution_count": 111,
      "outputs": [
        {
          "output_type": "execute_result",
          "data": {
            "text/plain": [
              "'bcde'"
            ],
            "application/vnd.google.colaboratory.intrinsic+json": {
              "type": "string"
            }
          },
          "metadata": {},
          "execution_count": 111
        }
      ]
    },
    {
      "cell_type": "code",
      "source": [
        "alfabeto[11:3:-2]"
      ],
      "metadata": {
        "colab": {
          "base_uri": "https://localhost:8080/",
          "height": 36
        },
        "id": "BFJ5bUF_tGj6",
        "outputId": "2ca42335-a12c-4782-ac22-15731bdf66bc"
      },
      "execution_count": 112,
      "outputs": [
        {
          "output_type": "execute_result",
          "data": {
            "text/plain": [
              "'fedc'"
            ],
            "application/vnd.google.colaboratory.intrinsic+json": {
              "type": "string"
            }
          },
          "metadata": {},
          "execution_count": 112
        }
      ]
    },
    {
      "cell_type": "markdown",
      "source": [
        "En resumen, para obtener caracteres de una cadena se debe especifcar entre paréntesis cuadrados el espacio inicial, el espacio final y la longitud del paso separados por `:`."
      ],
      "metadata": {
        "id": "QOkTq6x1toMk"
      }
    },
    {
      "cell_type": "markdown",
      "source": [
        "**Concatenación de Cadenas**"
      ],
      "metadata": {
        "id": "-TayMouQt-8r"
      }
    },
    {
      "cell_type": "code",
      "source": [
        "palabra_1=\"kilo\"\n",
        "palabra_2=\"metro\""
      ],
      "metadata": {
        "id": "oOiEpEHCtU0z"
      },
      "execution_count": 113,
      "outputs": []
    },
    {
      "cell_type": "code",
      "source": [
        "palabra_1+palabra_2"
      ],
      "metadata": {
        "colab": {
          "base_uri": "https://localhost:8080/",
          "height": 36
        },
        "id": "uWAUkY52uRIr",
        "outputId": "b9864fd2-c33b-47fb-e0b2-cebf99e5362d"
      },
      "execution_count": 114,
      "outputs": [
        {
          "output_type": "execute_result",
          "data": {
            "text/plain": [
              "'kilometro'"
            ],
            "application/vnd.google.colaboratory.intrinsic+json": {
              "type": "string"
            }
          },
          "metadata": {},
          "execution_count": 114
        }
      ]
    },
    {
      "cell_type": "code",
      "source": [
        "palabra_1*3"
      ],
      "metadata": {
        "colab": {
          "base_uri": "https://localhost:8080/",
          "height": 36
        },
        "id": "KUv1kH9yuWlq",
        "outputId": "96c26af8-c9a3-4d35-b99f-e465c1397e29"
      },
      "execution_count": 115,
      "outputs": [
        {
          "output_type": "execute_result",
          "data": {
            "text/plain": [
              "'kilokilokilo'"
            ],
            "application/vnd.google.colaboratory.intrinsic+json": {
              "type": "string"
            }
          },
          "metadata": {},
          "execution_count": 115
        }
      ]
    },
    {
      "cell_type": "markdown",
      "source": [
        "**Formatos de print e Interpolación**"
      ],
      "metadata": {
        "id": "4MLL94qyu-TV"
      }
    },
    {
      "cell_type": "markdown",
      "source": [
        "Dentro de un print también podemos llevar a cabo concatenaciones y podemos usar caracteres epeciales de escape"
      ],
      "metadata": {
        "id": "wuQWzYdavpVK"
      }
    },
    {
      "cell_type": "code",
      "source": [
        "print(palabra_1 +\"\\n\"+ palabra_2) # Nueva línea \\n"
      ],
      "metadata": {
        "colab": {
          "base_uri": "https://localhost:8080/"
        },
        "id": "N2WJP_Rguqd4",
        "outputId": "f45731f5-12a7-4914-80de-98ead8c437d8"
      },
      "execution_count": 116,
      "outputs": [
        {
          "output_type": "stream",
          "name": "stdout",
          "text": [
            "kilo\n",
            "metro\n"
          ]
        }
      ]
    },
    {
      "cell_type": "code",
      "source": [
        "print(palabra_1 +\"\\\\\"+ palabra_2) # Backslash \\\\"
      ],
      "metadata": {
        "colab": {
          "base_uri": "https://localhost:8080/"
        },
        "id": "NMwzD-PuvLWk",
        "outputId": "40c31d0d-8c8a-49ec-80f7-a543429576d5"
      },
      "execution_count": 117,
      "outputs": [
        {
          "output_type": "stream",
          "name": "stdout",
          "text": [
            "kilo\\metro\n"
          ]
        }
      ]
    },
    {
      "cell_type": "code",
      "source": [
        "print(palabra_1 +\"\\t\"+ palabra_2) # Tab \\t"
      ],
      "metadata": {
        "colab": {
          "base_uri": "https://localhost:8080/"
        },
        "id": "eRZ116v4wLb5",
        "outputId": "f789a65c-d467-46fb-8457-e1b4bcab5d24"
      },
      "execution_count": 118,
      "outputs": [
        {
          "output_type": "stream",
          "name": "stdout",
          "text": [
            "kilo\tmetro\n"
          ]
        }
      ]
    },
    {
      "cell_type": "code",
      "source": [
        "print(palabra_1 +\"\\r\"+ palabra_2) # Regresar carrete \\r"
      ],
      "metadata": {
        "colab": {
          "base_uri": "https://localhost:8080/"
        },
        "id": "1Vy3zokHwXTY",
        "outputId": "72bca13b-4cc0-4a19-8eb4-321f8b3f300a"
      },
      "execution_count": 119,
      "outputs": [
        {
          "output_type": "stream",
          "name": "stdout",
          "text": [
            "kilo\rmetro\n"
          ]
        }
      ]
    },
    {
      "cell_type": "code",
      "source": [
        "print(\"\\'\"+ palabra_1 +\"\\'\") # Escribir comillas simples \\'"
      ],
      "metadata": {
        "colab": {
          "base_uri": "https://localhost:8080/"
        },
        "id": "m9SMEXK8wg7g",
        "outputId": "c1e6e26e-51b7-4bcd-f5a7-b7ac943ec654"
      },
      "execution_count": 120,
      "outputs": [
        {
          "output_type": "stream",
          "name": "stdout",
          "text": [
            "'kilo'\n"
          ]
        }
      ]
    },
    {
      "cell_type": "code",
      "source": [
        "print(\"\\\"\"+ palabra_1 +\"\\\"\") # Escribir comillas dobles \\\""
      ],
      "metadata": {
        "colab": {
          "base_uri": "https://localhost:8080/"
        },
        "id": "49FaZDBYxMnr",
        "outputId": "1e93a4ba-68c1-4acd-cb19-fa1945aa520c"
      },
      "execution_count": 121,
      "outputs": [
        {
          "output_type": "stream",
          "name": "stdout",
          "text": [
            "\"kilo\"\n"
          ]
        }
      ]
    },
    {
      "cell_type": "markdown",
      "source": [
        "**Prefijos e interpolaciones**"
      ],
      "metadata": {
        "id": "AMhSS0aJx1nu"
      }
    },
    {
      "cell_type": "code",
      "source": [
        "print(\"linea 1\\nlinea 2\")"
      ],
      "metadata": {
        "colab": {
          "base_uri": "https://localhost:8080/"
        },
        "id": "q2jfLSfRyQfq",
        "outputId": "f6e97d61-09b0-42d7-bdaa-862db1fcf309"
      },
      "execution_count": 122,
      "outputs": [
        {
          "output_type": "stream",
          "name": "stdout",
          "text": [
            "linea 1\n",
            "linea 2\n"
          ]
        }
      ]
    },
    {
      "cell_type": "code",
      "source": [
        "print(r\"linea 1\\nlinea 2\") # formato raw (crudo) no atiende los caracteres de escape, escribe literalmente el contenido del string"
      ],
      "metadata": {
        "colab": {
          "base_uri": "https://localhost:8080/"
        },
        "id": "FKZPmXMexWat",
        "outputId": "11792d36-d6ca-4e42-a4e3-7104cc7e0fc2"
      },
      "execution_count": 123,
      "outputs": [
        {
          "output_type": "stream",
          "name": "stdout",
          "text": [
            "linea 1\\nlinea 2\n"
          ]
        }
      ]
    },
    {
      "cell_type": "code",
      "source": [
        "print(\"Hola, %s!\" % palabra_1) # Interpolación con %"
      ],
      "metadata": {
        "colab": {
          "base_uri": "https://localhost:8080/"
        },
        "id": "1DG3A2rbyjN4",
        "outputId": "277e2350-1724-424a-8413-b3f711f5042d"
      },
      "execution_count": 124,
      "outputs": [
        {
          "output_type": "stream",
          "name": "stdout",
          "text": [
            "Hola, kilo!\n"
          ]
        }
      ]
    },
    {
      "cell_type": "code",
      "source": [
        "print(\"Hola, {}! toma un {}.\".format(palabra_1,palabra_2) ) # Interpolación con el método str.format()"
      ],
      "metadata": {
        "colab": {
          "base_uri": "https://localhost:8080/"
        },
        "id": "BrXEhGkFzazc",
        "outputId": "8e682191-fc88-4a72-a40a-0f181ed3def0"
      },
      "execution_count": 125,
      "outputs": [
        {
          "output_type": "stream",
          "name": "stdout",
          "text": [
            "Hola, kilo! toma un metro.\n"
          ]
        }
      ]
    },
    {
      "cell_type": "code",
      "source": [
        "print(f\"Hola, {palabra_1}! toma un {palabra_2}.\" ) # Interpolación con prefijo f, (Literal string interpolation)"
      ],
      "metadata": {
        "colab": {
          "base_uri": "https://localhost:8080/"
        },
        "id": "nYsUowtb0Ii5",
        "outputId": "b77ccac8-b63e-42f5-afeb-cbafbbc621ee"
      },
      "execution_count": 126,
      "outputs": [
        {
          "output_type": "stream",
          "name": "stdout",
          "text": [
            "Hola, kilo! toma un metro.\n"
          ]
        }
      ]
    },
    {
      "cell_type": "markdown",
      "source": [
        "**Contenedores**\n",
        "\n",
        "\n",
        "*   Listas `list`\n",
        "*   Tuplos `tuple`\n",
        "*   Conjuntos `set`\n",
        "*   Conjuntos congelados `fozenset`\n",
        "*   Diccionarios `dict`\n",
        "\n",
        "Estos contenedores se diferencían entre sí, a través de dos conceptos básicos:\n",
        "\n",
        "\n",
        "*   Mutabilidad\n",
        "*   Duck typing\n",
        "\n",
        "Un tipo de dato se dice mutable si su valor puede camiar después de ser creado.\n",
        "En cambio un tipo de dato esinmutable si sus valores son estáticos y no se pueden cambiar una vez que e creado. Duck typing significa que el tipo de variable es menos importante que la interfaz que expone. Si dos variables exponen la misma interfaz deben ser usadas del mismo modo (si luce como un pato y grazna como un pato, debe ser un pato)\n"
      ],
      "metadata": {
        "id": "hQS-hTYz07he"
      }
    },
    {
      "cell_type": "markdown",
      "source": [
        "Listas.- Contenedores unidimensionales cuyos elementos pueden ser cualquier tipo de objetos de python. Son mutables y tienen metodos para añadir y remover elementos. Su sintaxis consiste en contener valores separados por comas entre paréntesis cuadrados"
      ],
      "metadata": {
        "id": "eqy6cT-E3J-W"
      }
    },
    {
      "cell_type": "code",
      "source": [
        "lista_1=[6,-28, 1e3,\"Estoy en esta lista\", [1.0, 2.0]]"
      ],
      "metadata": {
        "id": "do-7QWul07L8"
      },
      "execution_count": 127,
      "outputs": []
    },
    {
      "cell_type": "code",
      "source": [
        "lista_1"
      ],
      "metadata": {
        "colab": {
          "base_uri": "https://localhost:8080/"
        },
        "id": "ckhntZ5-0RS5",
        "outputId": "3a1dfebb-4648-4d49-b00f-7b716d4a12cd"
      },
      "execution_count": 128,
      "outputs": [
        {
          "output_type": "execute_result",
          "data": {
            "text/plain": [
              "[6, -28, 1000.0, 'Estoy en esta lista', [1.0, 2.0]]"
            ]
          },
          "metadata": {},
          "execution_count": 128
        }
      ]
    },
    {
      "cell_type": "markdown",
      "source": [
        "Las listas son indizables, como las cadenas de caracteres"
      ],
      "metadata": {
        "id": "FcBfMTO24L2k"
      }
    },
    {
      "cell_type": "code",
      "source": [
        "lista_1[3]"
      ],
      "metadata": {
        "colab": {
          "base_uri": "https://localhost:8080/",
          "height": 36
        },
        "id": "j334XCE04CGh",
        "outputId": "30f39f3a-5198-4460-fe07-42c243c627b0"
      },
      "execution_count": 129,
      "outputs": [
        {
          "output_type": "execute_result",
          "data": {
            "text/plain": [
              "'Estoy en esta lista'"
            ],
            "application/vnd.google.colaboratory.intrinsic+json": {
              "type": "string"
            }
          },
          "metadata": {},
          "execution_count": 129
        }
      ]
    },
    {
      "cell_type": "markdown",
      "source": [
        "se pueden concatenar"
      ],
      "metadata": {
        "id": "_i5AElm140tX"
      }
    },
    {
      "cell_type": "code",
      "source": [
        "lista_2=[3.1416,palabra_1,palabra_2,alfabeto]"
      ],
      "metadata": {
        "id": "cYQUGBop4XGK"
      },
      "execution_count": 130,
      "outputs": []
    },
    {
      "cell_type": "code",
      "source": [
        "lista_1+lista_2"
      ],
      "metadata": {
        "colab": {
          "base_uri": "https://localhost:8080/"
        },
        "id": "b2czcWZb5MBd",
        "outputId": "db3eda0a-817a-4edc-956e-89bae4871205"
      },
      "execution_count": 131,
      "outputs": [
        {
          "output_type": "execute_result",
          "data": {
            "text/plain": [
              "[6,\n",
              " -28,\n",
              " 1000.0,\n",
              " 'Estoy en esta lista',\n",
              " [1.0, 2.0],\n",
              " 3.1416,\n",
              " 'kilo',\n",
              " 'metro',\n",
              " 'AaBbCcDdEeFfGgHhIiJjKkLlMmNnOoPpQqRrSsTtUuVvWwXxYyZz']"
            ]
          },
          "metadata": {},
          "execution_count": 131
        }
      ]
    },
    {
      "cell_type": "markdown",
      "source": [
        "y se les pueden añadir nuevos elementos en cualquier momento con el método `.append()`"
      ],
      "metadata": {
        "id": "jZH4dE905b9J"
      }
    },
    {
      "cell_type": "code",
      "source": [
        "lista_2.append(123)"
      ],
      "metadata": {
        "id": "CmWQ2V-a5OSX"
      },
      "execution_count": 132,
      "outputs": []
    },
    {
      "cell_type": "code",
      "source": [
        "lista_2"
      ],
      "metadata": {
        "colab": {
          "base_uri": "https://localhost:8080/"
        },
        "id": "F4wc9rJA5szj",
        "outputId": "ec57a9e0-c5bd-446a-8197-64d99fa3fec9"
      },
      "execution_count": 133,
      "outputs": [
        {
          "output_type": "execute_result",
          "data": {
            "text/plain": [
              "[3.1416,\n",
              " 'kilo',\n",
              " 'metro',\n",
              " 'AaBbCcDdEeFfGgHhIiJjKkLlMmNnOoPpQqRrSsTtUuVvWwXxYyZz',\n",
              " 123]"
            ]
          },
          "metadata": {},
          "execution_count": 133
        }
      ]
    },
    {
      "cell_type": "code",
      "source": [],
      "metadata": {
        "id": "8Ngt43TF6Z8V"
      },
      "execution_count": 133,
      "outputs": []
    }
  ]
}